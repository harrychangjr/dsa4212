{
 "cells": [
  {
   "cell_type": "code",
   "execution_count": 2,
   "id": "b2863c0a",
   "metadata": {},
   "outputs": [],
   "source": [
    "import pandas as pd\n",
    "import numpy as np\n",
    "from surprise import KNNBasic, KNNWithMeans, SVD, Dataset, Reader\n",
    "from surprise.model_selection import train_test_split\n",
    "from surprise import accuracy"
   ]
  },
  {
   "cell_type": "code",
   "execution_count": 3,
   "id": "cf037347",
   "metadata": {},
   "outputs": [],
   "source": [
    "# Load the datasets\n",
    "anime_df = pd.read_csv(\"/Users/harrychang/Desktop/Y3S2/DSA4212/assignment2/assignment_2_data/assignment_2_anime.csv\")\n",
    "ratings_train_df = pd.read_csv(\"/Users/harrychang/Desktop/Y3S2/DSA4212/assignment2/assignment_2_data/assignment_2_ratings_train.csv\")\n",
    "ratings_test_df = pd.read_csv(\"/Users/harrychang/Desktop/Y3S2/DSA4212/assignment2/assignment_2_data/assignment_2_ratings_test.csv\")"
   ]
  },
  {
   "cell_type": "code",
   "execution_count": 4,
   "id": "a0333621",
   "metadata": {},
   "outputs": [],
   "source": [
    "# Merge the training and test dataframes for Surprise library\n",
    "ratings_df = pd.concat([ratings_train_df, ratings_test_df])"
   ]
  },
  {
   "cell_type": "code",
   "execution_count": 5,
   "id": "f058e586",
   "metadata": {},
   "outputs": [],
   "source": [
    "# Set up the data for the Surprise library\n",
    "reader = Reader(rating_scale=(1, 10))\n",
    "data = Dataset.load_from_df(ratings_df[['user_id', 'anime_id', 'rating']], reader)"
   ]
  },
  {
   "cell_type": "code",
   "execution_count": 6,
   "id": "da3bd01c",
   "metadata": {},
   "outputs": [],
   "source": [
    "# Split the data into train and test sets using the same proportion as the original data\n",
    "train_size = len(ratings_train_df) / len(ratings_df)\n",
    "trainset, testset = train_test_split(data, test_size=1-train_size, random_state=42)"
   ]
  },
  {
   "cell_type": "code",
   "execution_count": 12,
   "id": "32b7feaa",
   "metadata": {},
   "outputs": [
    {
     "name": "stdout",
     "output_type": "stream",
     "text": [
      "Computing the msd similarity matrix...\n",
      "Done computing similarity matrix.\n"
     ]
    },
    {
     "data": {
      "text/plain": [
       "<surprise.prediction_algorithms.knns.KNNWithMeans at 0x7fe0e84a9f40>"
      ]
     },
     "execution_count": 12,
     "metadata": {},
     "output_type": "execute_result"
    }
   ],
   "source": [
    "# Train the item-based collaborative filtering model\n",
    "algo_item_based = KNNWithMeans(sim_options={'user_based': False})\n",
    "algo_item_based.fit(trainset)"
   ]
  },
  {
   "cell_type": "code",
   "execution_count": 13,
   "id": "a11c047a",
   "metadata": {},
   "outputs": [],
   "source": [
    "# Make predictions on the test set for item-based collaborative filtering\n",
    "predictions_item_based = algo_item_based.test(testset)"
   ]
  },
  {
   "cell_type": "code",
   "execution_count": 14,
   "id": "cde57eb3",
   "metadata": {},
   "outputs": [
    {
     "name": "stdout",
     "output_type": "stream",
     "text": [
      "Item-based collaborative filtering MSE: 1.3823935232597724\n"
     ]
    }
   ],
   "source": [
    "# Calculate the MSE for item-based collaborative filtering\n",
    "mse_item_based = accuracy.mse(predictions_item_based, verbose=False)\n",
    "print(\"Item-based collaborative filtering MSE:\", mse_item_based)"
   ]
  }
 ],
 "metadata": {
  "kernelspec": {
   "display_name": "Python 3",
   "language": "python",
   "name": "python3"
  },
  "language_info": {
   "codemirror_mode": {
    "name": "ipython",
    "version": 3
   },
   "file_extension": ".py",
   "mimetype": "text/x-python",
   "name": "python",
   "nbconvert_exporter": "python",
   "pygments_lexer": "ipython3",
   "version": "3.8.8"
  }
 },
 "nbformat": 4,
 "nbformat_minor": 5
}
