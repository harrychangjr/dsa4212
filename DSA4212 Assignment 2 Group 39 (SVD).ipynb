{
 "cells": [
  {
   "cell_type": "code",
   "execution_count": 1,
   "id": "b93528b6",
   "metadata": {},
   "outputs": [],
   "source": [
    "import pandas as pd\n",
    "import numpy as np\n",
    "from surprise import SVD, Dataset, Reader\n",
    "from surprise.model_selection import train_test_split\n",
    "from surprise import accuracy"
   ]
  },
  {
   "cell_type": "code",
   "execution_count": 3,
   "id": "4fc543c0",
   "metadata": {},
   "outputs": [],
   "source": [
    "# Load the datasets\n",
    "anime_df = pd.read_csv(\"/Users/harrychang/Desktop/Y3S2/DSA4212/assignment2/assignment_2_data/assignment_2_anime.csv\")\n",
    "ratings_train_df = pd.read_csv(\"/Users/harrychang/Desktop/Y3S2/DSA4212/assignment2/assignment_2_data/assignment_2_ratings_train.csv\")\n",
    "ratings_test_df = pd.read_csv(\"/Users/harrychang/Desktop/Y3S2/DSA4212/assignment2/assignment_2_data/assignment_2_ratings_test.csv\")"
   ]
  },
  {
   "cell_type": "code",
   "execution_count": 4,
   "id": "0db2cef0",
   "metadata": {},
   "outputs": [],
   "source": [
    "# Merge the training and test dataframes for Surprise library\n",
    "ratings_df = pd.concat([ratings_train_df, ratings_test_df])"
   ]
  },
  {
   "cell_type": "code",
   "execution_count": 5,
   "id": "d292d162",
   "metadata": {},
   "outputs": [],
   "source": [
    "# Set up the data for the Surprise library\n",
    "reader = Reader(rating_scale=(1, 10))\n",
    "data = Dataset.load_from_df(ratings_df[['user_id', 'anime_id', 'rating']], reader)"
   ]
  },
  {
   "cell_type": "code",
   "execution_count": 6,
   "id": "d3168c1e",
   "metadata": {},
   "outputs": [],
   "source": [
    "# Split the data into train and test sets using the same proportion as the original data\n",
    "train_size = len(ratings_train_df) / len(ratings_df)\n",
    "trainset, testset = train_test_split(data, test_size=1-train_size, random_state=42)\n"
   ]
  },
  {
   "cell_type": "code",
   "execution_count": 7,
   "id": "ec610bfe",
   "metadata": {},
   "outputs": [
    {
     "data": {
      "text/plain": [
       "<surprise.prediction_algorithms.matrix_factorization.SVD at 0x7fc660056eb0>"
      ]
     },
     "execution_count": 7,
     "metadata": {},
     "output_type": "execute_result"
    }
   ],
   "source": [
    "# Train the SVD model\n",
    "algo = SVD()\n",
    "algo.fit(trainset)"
   ]
  },
  {
   "cell_type": "code",
   "execution_count": 8,
   "id": "b05c29fd",
   "metadata": {},
   "outputs": [],
   "source": [
    "# Make predictions on the test set\n",
    "predictions = algo.test(testset)"
   ]
  },
  {
   "cell_type": "code",
   "execution_count": 9,
   "id": "74ccf120",
   "metadata": {},
   "outputs": [
    {
     "name": "stdout",
     "output_type": "stream",
     "text": [
      "SVD MSE: 1.316212903953369\n"
     ]
    }
   ],
   "source": [
    "# Calculate the MSE for the SVD model\n",
    "mse = accuracy.mse(predictions, verbose=False)\n",
    "print(\"SVD MSE:\", mse)"
   ]
  },
  {
   "cell_type": "code",
   "execution_count": null,
   "id": "1f45b451",
   "metadata": {},
   "outputs": [],
   "source": []
  }
 ],
 "metadata": {
  "kernelspec": {
   "display_name": "Python 3",
   "language": "python",
   "name": "python3"
  },
  "language_info": {
   "codemirror_mode": {
    "name": "ipython",
    "version": 3
   },
   "file_extension": ".py",
   "mimetype": "text/x-python",
   "name": "python",
   "nbconvert_exporter": "python",
   "pygments_lexer": "ipython3",
   "version": "3.8.8"
  }
 },
 "nbformat": 4,
 "nbformat_minor": 5
}
